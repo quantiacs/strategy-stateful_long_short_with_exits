{
 "cells": [
  {
   "cell_type": "markdown",
   "metadata": {},
   "source": [
    "## Stateful Long-Short with Exits\n",
    "This template shows you how to use the quantiacs exits library to implement conditional exits in your strategy and evaluate weights on a day-by-day basis using the multipass backtester.\n",
    "\n",
    "First, we can start by importing all the needed libraries."
   ]
  },
  {
   "cell_type": "code",
   "execution_count": 1,
   "metadata": {},
   "outputs": [
    {
     "data": {
      "text/html": [
       "        <script type=\"text/javascript\">\n",
       "        window.PlotlyConfig = {MathJaxConfig: 'local'};\n",
       "        if (window.MathJax) {MathJax.Hub.Config({SVG: {font: \"STIX-Web\"}});}\n",
       "        if (typeof require !== 'undefined') {\n",
       "        require.undef(\"plotly\");\n",
       "        requirejs.config({\n",
       "            paths: {\n",
       "                'plotly': ['https://cdn.plot.ly/plotly-latest.min']\n",
       "            }\n",
       "        });\n",
       "        require(['plotly'], function(Plotly) {\n",
       "            window._Plotly = Plotly;\n",
       "        });\n",
       "        }\n",
       "        </script>\n",
       "        "
      ]
     },
     "metadata": {},
     "output_type": "display_data"
    }
   ],
   "source": [
    "# Import basic libraries.\n",
    "import xarray as xr\n",
    "import pandas as pd\n",
    "import numpy as np\n",
    "import datetime\n",
    "import os \n",
    "import pickle\n",
    "\n",
    "# Import Quantiacs libraries.\n",
    "import qnt.data    as qndata  # load and manipulate data\n",
    "import qnt.output as qnout   # manage output\n",
    "import qnt.backtester as qnbt # backtester\n",
    "import qnt.stats   as qnstats # statistical functions for analysis\n",
    "import qnt.graph   as qngraph # graphical tools\n",
    "import qnt.ta      as qnta    # indicators library\n",
    "import qnt.xr_talib as xr_talib   # indicators library\n",
    "import qnt.state as qnstate #state functions\n",
    "import qnt.exits as qnte # exit functions"
   ]
  },
  {
   "cell_type": "markdown",
   "metadata": {},
   "source": [
    "## Loading the data\n"
   ]
  },
  {
   "cell_type": "code",
   "execution_count": 2,
   "metadata": {},
   "outputs": [
    {
     "name": "stdout",
     "output_type": "stream",
     "text": [
      "fetched chunk 1/7 0s\n",
      "fetched chunk 2/7 0s\n",
      "fetched chunk 3/7 0s\n",
      "fetched chunk 4/7 0s\n",
      "fetched chunk 5/7 0s\n",
      "fetched chunk 6/7 0s\n",
      "fetched chunk 7/7 0s\n",
      "Data loaded 1s\n"
     ]
    }
   ],
   "source": [
    "data = qndata.stocks.load_ndx_data(min_date=\"2004-01-01\")"
   ]
  },
  {
   "cell_type": "markdown",
   "metadata": {},
   "source": [
    "# Using position exits in the trading strategy\n",
    "The trading strategy below explains how to incorporate exit algorithms. You will find an overview of the strategy and step-by-step instructions to integrate take profit, stop loss and day counter effectively.\n",
    "\n",
    "The strategy function uses several technical indicators to generate long and short signals. Here's a brief overview of the key components:\n",
    "\n",
    "#### Strategy Logic\n",
    "\n",
    "- long_signal: Generated when the 40-day SMA crosses above the 200-day SMA.\n",
    "\n",
    "- long_signal_2: Generated when a green candlestick is 4.5 times bigger than the average candlestick in the last 100 days.\n",
    "\n",
    "- short_signal: Generated when 120-day RSI is above 65 (indicating a long time of overperformance and a likely retracement).\n",
    "\n",
    "- exit1: Closes the position when the last close is under the 70-day SMA\n",
    "\n",
    "- exit2: Closes the position after the price drops over 5% in 1 day\n",
    "\n",
    "In this approach we will add all the signals up. This way, multiple long or short signals appearing on the same day can amplify or cancel each other out. In this case the exits are made to exit long positions, so we will multiply them with long signals.\n",
    "\n",
    "#### Position Sizing\n",
    "\n",
    "Positions are sized based on the ATR percentage ```weights = (entry/atr_perc)``` in the code. This is a risk management method that invests more in stable periods of low volatility and less in high volatility periods instead of dividing the weights evenly across assets.\n",
    "\n",
    "## Adding Exit Signals:\n",
    "\n",
    "- **take_profit** function determines whether positions should be exited based on the take profit criteria. The threshold parameter determines how many ATRs the price needs to move upwards (long) or downwards (short) from the opening price in order for the position to be closed. Use long = True (default) to apply it to long positions or long = False for short positions.\n",
    "\n",
    "- **stop_loss** function determines whether positions should be exited based on the stop loss criteria. The threshold parameter determines how many ATRs the price needs to move downwards (long) or upwards (short) from the opening price in order for the position to be closed. Use long = True (default) to apply it to long positions or long = False for short positions.\n",
    "\n",
    "- **day_counter** function determines whether positions should be exited based on the number of days in position. The threshold parameter determines how many days since entry need to pass to exit the position. Use long = True (default) to apply it to long positions or long = False for short positions.\n",
    "\n",
    "The weights are updated by multiplying them with all the exit signals (tp, sl, dc). This effectively exits positions if **any** of the exit conditions are met.\n",
    "\n",
    "#### State Management\n",
    "The state is updated with the new weights and written back to ensure persistence across function calls. In this implementation, positions are forwarded every day until an exit is hit. For example - if you want to enter a position after a big green bar happens, it doesn't need to happen again the next day. The system will stay in position until an exit happens, after which it looks for an entry signal again.\n",
    "\n",
    "**Note: Exit functions only work properly with the multi-pass backtester due to requiring previous state information.**"
   ]
  },
  {
   "cell_type": "code",
   "execution_count": 3,
   "metadata": {
    "scrolled": true
   },
   "outputs": [
    {
     "name": "stdout",
     "output_type": "stream",
     "text": [
      "Run last pass...\n",
      "Load data...\n",
      "fetched chunk 1/1 0s\n",
      "Data loaded 0s\n",
      "Run strategy...\n",
      "State saved.\n",
      "Load data for cleanup...\n",
      "fetched chunk 1/1 0s\n",
      "Data loaded 0s\n",
      "Output cleaning...\n",
      "fix uniq\n",
      "ffill if the current price is None...\n",
      "Check liquidity...\n",
      "WARNING! Strategy trades non-liquid assets.\n",
      "Fix liquidity...\n",
      "Ok.\n",
      "Check missed dates...\n",
      "Ok.\n",
      "Normalization...\n",
      "Output cleaning is complete.\n",
      "Write result...\n",
      "Write output: /root/fractions.nc.gz\n",
      "State saved.\n",
      "---\n",
      "Run first pass...\n",
      "Load data...\n",
      "fetched chunk 1/1 0s\n",
      "Data loaded 0s\n",
      "Run strategy...\n",
      "State saved.\n",
      "---\n",
      "Load full data...\n",
      "fetched chunk 1/6 0s\n",
      "fetched chunk 2/6 0s\n",
      "fetched chunk 3/6 0s\n",
      "fetched chunk 4/6 0s\n",
      "fetched chunk 5/6 0s\n",
      "fetched chunk 6/6 0s\n",
      "Data loaded 0s\n",
      "---\n",
      "Run iterations...\n",
      "\n",
      "State saved.\n"
     ]
    },
    {
     "name": "stderr",
     "output_type": "stream",
     "text": [
      "100% (4638 of 4638) |####################| Elapsed Time: 0:05:59 Time:  0:05:59\n"
     ]
    },
    {
     "name": "stdout",
     "output_type": "stream",
     "text": [
      "Merge outputs...\n",
      "Load data for cleanup and analysis...\n",
      "fetched chunk 1/7 0s\n",
      "fetched chunk 2/7 0s\n",
      "fetched chunk 3/7 0s\n",
      "fetched chunk 4/7 0s\n",
      "fetched chunk 5/7 0s\n",
      "fetched chunk 6/7 0s\n",
      "fetched chunk 7/7 0s\n",
      "Data loaded 0s\n",
      "Output cleaning...\n",
      "fix uniq\n",
      "ffill if the current price is None...\n",
      "Check liquidity...\n",
      "WARNING! Strategy trades non-liquid assets.\n",
      "Fix liquidity...\n",
      "Ok.\n",
      "Check missed dates...\n",
      "Ok.\n",
      "Normalization...\n",
      "Output cleaning is complete.\n",
      "Write result...\n",
      "Write output: /root/fractions.nc.gz\n",
      "State saved.\n",
      "---\n",
      "Analyze results...\n",
      "Check...\n",
      "Check liquidity...\n",
      "Ok.\n",
      "Check missed dates...\n",
      "Ok.\n",
      "Check the sharpe ratio...\n",
      "Period: 2006-01-01 - 2024-06-06\n",
      "Sharpe Ratio = 0.7519539843563142\n"
     ]
    },
    {
     "name": "stderr",
     "output_type": "stream",
     "text": [
      "ERROR! The Sharpe Ratio is too low. 0.7519539843563142 < 1\n",
      "Improve the strategy and make sure that the in-sample Sharpe Ratio more than 1.\n"
     ]
    },
    {
     "name": "stdout",
     "output_type": "stream",
     "text": [
      "---\n",
      "Align...\n",
      "Calc global stats...\n",
      "---\n",
      "Calc stats per asset...\n",
      "Build plots...\n",
      "---\n",
      "Select the asset (or leave blank to display the overall stats):\n"
     ]
    },
    {
     "data": {
      "application/vnd.jupyter.widget-view+json": {
       "model_id": "06a11bc58bce4005b1f6d0814142c162",
       "version_major": 2,
       "version_minor": 0
      },
      "text/plain": [
       "interactive(children=(Combobox(value='', description='asset', options=('', 'NAS:AAL', 'NAS:AAPL', 'NAS:ABNB', …"
      ]
     },
     "metadata": {},
     "output_type": "display_data"
    }
   ],
   "source": [
    "def strategy(data, state):\n",
    "    \n",
    "    #Technical indicators\n",
    "    close = data.sel(field='close')\n",
    "    open_ = data.sel(field='open')\n",
    "    atr14 = qnta.atr(data.sel(field='high'), data.sel(field='low'), data.sel(field='close'), 14)\n",
    "    last_atr = atr14.isel(time=-1)\n",
    "    atr_perc = xr.where(atr14/close > 0.01, atr14/close, 0.01)\n",
    "    sma40  = qnta.sma(close, 40)\n",
    "    sma70  = qnta.sma(close, 70)\n",
    "    sma200  = qnta.sma(close, 200)\n",
    "    rsi120 = qnta.rsi(close, 120)\n",
    "    candle = close - open_\n",
    "    candlesma100 = qnta.sma(abs(candle), 100)\n",
    "    roc1day = qnta.roc(close, 1)\n",
    "    \n",
    "    if state is None:\n",
    "        state = {\n",
    "            \"weights\": xr.zeros_like(close),\n",
    "            \"open_price\": xr.full_like(data.isel(time=-1).asset, np.nan, dtype=int),\n",
    "            \"counter\": xr.zeros_like(data.isel(time=-1).asset, dtype=int),\n",
    "            }\n",
    "        qnstate.write(state)\n",
    "    weights_prev = state['weights']\n",
    "    \n",
    "    #To reuse the template, define your trading signals here ---------------------\n",
    "    long_signal = xr.where(sma40 > sma200, xr.where(sma40.shift(time=1) < sma200.shift(time=1), 4.5, 0), 0) \n",
    "    long_signal_2 = xr.where(candle > candlesma100.shift(time=1) * 4.5, 1, 0)\n",
    "    short_signal = xr.where(rsi120 > 65 , -15, 0)\n",
    "    exit1 = xr.where(close < sma70, 0, 1)\n",
    "    exit2 = xr.where(roc1day < -5, 0, 1)\n",
    "    entry_signal = short_signal + (long_signal + long_signal_2) * exit1 * exit2\n",
    "    entry_signal = entry_signal/atr_perc\n",
    "    # ----------------------------------------------------------------------------\n",
    "    \n",
    "    #Keeping track of the previous position\n",
    "    weights_prev, entry_signal = xr.align(weights_prev, entry_signal, join='right')\n",
    "    weights = xr.where(entry_signal == 0, weights_prev.shift(time=1), entry_signal)\n",
    "    weights = weights.fillna(0)\n",
    "    \n",
    "    #Define additional exit parameters here----------------------------------\n",
    "    signal_tp = qnte.take_profit(data, weights, state, last_atr, threshold = 7) #Exit long positions if current close is bigger than entry_signal price + 7*ATR\n",
    "    signal_sl = qnte.stop_loss(data, weights, state, last_atr, threshold = 3) #Exit long positions if current close is lower than entry_signal price - 3*ATR\n",
    "    signal_dc = qnte.day_counter(data, weights, state, days = 10, long = False) #Exit short positions 10 days from entry_signal \n",
    "    weights = weights * signal_tp * signal_sl * signal_dc\n",
    "    #------------------------------------------------------------------------\n",
    "    \n",
    "    state['weights'] = weights\n",
    "    return weights, state\n",
    "\n",
    "weights, state = qnbt.backtest(\n",
    "    competition_type=\"stocks_nasdaq100\", \n",
    "    lookback_period=365,  # lookback in calendar days\n",
    "    start_date=\"2006-01-01\",\n",
    "    strategy=strategy,\n",
    "    analyze=True,\n",
    "    build_plots=True,\n",
    "    collect_all_states=False # if it is False, then the function returns the last state, otherwise - all states\n",
    ")"
   ]
  },
  {
   "cell_type": "markdown",
   "metadata": {},
   "source": [
    "## Strategy Guidelines\n",
    "\n",
    "* Your trading algorithm can open both short and long positions.\n",
    "\n",
    "* This approach will work for any type of competition and data.\n",
    "\n",
    "* The Sharpe ratio of your system since January 1, 2006, must be greater than 0.7.\n",
    "\n",
    "* Your system must not replicate the current examples. We use a correlation filter to identify and remove duplicates in the submissions.\n",
    "\n",
    "For more detailed rules, please visit our [competition rules page](https://quantiacs.com/contest)."
   ]
  }
 ],
 "metadata": {
  "kernelspec": {
   "display_name": "Python 3 (ipykernel)",
   "language": "python",
   "name": "python3"
  },
  "language_info": {
   "codemirror_mode": {
    "name": "ipython",
    "version": 3
   },
   "file_extension": ".py",
   "mimetype": "text/x-python",
   "name": "python",
   "nbconvert_exporter": "python",
   "pygments_lexer": "ipython3",
   "version": "3.10.13"
  }
 },
 "nbformat": 4,
 "nbformat_minor": 4
}
